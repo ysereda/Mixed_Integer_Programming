{
 "cells": [
  {
   "cell_type": "markdown",
   "id": "a8963437",
   "metadata": {},
   "source": [
    "# CVXPY MIP\n",
    "https://www.cvxpy.org/examples/"
   ]
  },
  {
   "cell_type": "code",
   "execution_count": 2,
   "id": "ca9e4471",
   "metadata": {},
   "outputs": [
    {
     "name": "stdout",
     "output_type": "stream",
     "text": [
      "Collecting cvxpy\n",
      "  Downloading cvxpy-1.4.1-cp39-cp39-win_amd64.whl.metadata (9.0 kB)\n",
      "Collecting osqp>=0.6.2 (from cvxpy)\n",
      "  Downloading osqp-0.6.3-cp39-cp39-win_amd64.whl.metadata (1.8 kB)\n",
      "Collecting ecos>=2 (from cvxpy)\n",
      "  Downloading ecos-2.0.12-cp39-cp39-win_amd64.whl (72 kB)\n",
      "     -------------------------------------- 72.0/72.0 kB 996.6 kB/s eta 0:00:00\n",
      "Collecting clarabel>=0.5.0 (from cvxpy)\n",
      "  Downloading clarabel-0.6.0-cp37-abi3-win_amd64.whl.metadata (4.4 kB)\n",
      "Collecting scs>=3.0 (from cvxpy)\n",
      "  Downloading scs-3.2.4.post1-cp39-cp39-win_amd64.whl.metadata (2.1 kB)\n",
      "Requirement already satisfied: numpy>=1.15 in c:\\users\\admin\\anaconda3\\lib\\site-packages (from cvxpy) (1.26.2)\n",
      "Requirement already satisfied: scipy>=1.1.0 in c:\\users\\admin\\anaconda3\\lib\\site-packages (from cvxpy) (1.7.1)\n",
      "Collecting pybind11 (from cvxpy)\n",
      "  Downloading pybind11-2.11.1-py3-none-any.whl.metadata (9.5 kB)\n",
      "Collecting qdldl (from osqp>=0.6.2->cvxpy)"
     ]
    },
    {
     "name": "stderr",
     "output_type": "stream",
     "text": [
      "WARNING: Ignoring invalid distribution -atplotlib (c:\\users\\admin\\anaconda3\\lib\\site-packages)\n",
      "WARNING: Ignoring invalid distribution -rotobuf (c:\\users\\admin\\anaconda3\\lib\\site-packages)\n",
      "WARNING: Ignoring invalid distribution -atplotlib (c:\\users\\admin\\anaconda3\\lib\\site-packages)\n",
      "WARNING: Ignoring invalid distribution -rotobuf (c:\\users\\admin\\anaconda3\\lib\\site-packages)\n",
      "DEPRECATION: pyodbc 4.0.0-unsupported has a non-standard version number. pip 24.0 will enforce this behaviour change. A possible replacement is to upgrade to a newer version of pyodbc or contact the author to suggest that they release a version with a conforming version number. Discussion can be found at https://github.com/pypa/pip/issues/12063\n",
      "ERROR: pip's dependency resolver does not currently take into account all the packages that are installed. This behaviour is the source of the following dependency conflicts.\n",
      "daal4py 2021.3.0 requires daal==2021.2.3, which is not installed.\n",
      "numba 0.54.1 requires numpy<1.21,>=1.17, but you have numpy 1.22.4 which is incompatible.\n"
     ]
    },
    {
     "name": "stdout",
     "output_type": "stream",
     "text": [
      "\n",
      "  Downloading qdldl-0.1.7.post0-cp39-cp39-win_amd64.whl.metadata (1.8 kB)\n",
      "Collecting numpy>=1.15 (from cvxpy)\n",
      "  Downloading numpy-1.22.4-cp39-cp39-win_amd64.whl (14.7 MB)\n",
      "     --------------------------------------- 14.7/14.7 MB 12.6 MB/s eta 0:00:00\n",
      "Downloading cvxpy-1.4.1-cp39-cp39-win_amd64.whl (1.0 MB)\n",
      "   ---------------------------------------- 1.0/1.0 MB 11.0 MB/s eta 0:00:00\n",
      "Downloading clarabel-0.6.0-cp37-abi3-win_amd64.whl (355 kB)\n",
      "   --------------------------------------- 355.1/355.1 kB 11.1 MB/s eta 0:00:00\n",
      "Downloading osqp-0.6.3-cp39-cp39-win_amd64.whl (292 kB)\n",
      "   ---------------------------------------- 292.9/292.9 kB 6.0 MB/s eta 0:00:00\n",
      "Downloading scs-3.2.4.post1-cp39-cp39-win_amd64.whl (8.4 MB)\n",
      "   ---------------------------------------- 8.4/8.4 MB 12.5 MB/s eta 0:00:00\n",
      "Downloading pybind11-2.11.1-py3-none-any.whl (227 kB)\n",
      "   ---------------------------------------- 227.7/227.7 kB 6.8 MB/s eta 0:00:00\n",
      "Downloading qdldl-0.1.7.post0-cp39-cp39-win_amd64.whl (85 kB)\n",
      "   ---------------------------------------- 85.1/85.1 kB 1.6 MB/s eta 0:00:00\n",
      "Installing collected packages: pybind11, numpy, scs, qdldl, ecos, clarabel, osqp, cvxpy\n",
      "  Attempting uninstall: numpy\n",
      "    Found existing installation: numpy 1.26.2\n",
      "    Uninstalling numpy-1.26.2:\n",
      "      Successfully uninstalled numpy-1.26.2\n",
      "Successfully installed clarabel-0.6.0 cvxpy-1.4.1 ecos-2.0.12 numpy-1.22.4 osqp-0.6.3 pybind11-2.11.1 qdldl-0.1.7.post0 scs-3.2.4.post1\n"
     ]
    }
   ],
   "source": [
    "!pip install cvxpy"
   ]
  },
  {
   "cell_type": "code",
   "execution_count": 223,
   "id": "50a47642",
   "metadata": {},
   "outputs": [
    {
     "name": "stdout",
     "output_type": "stream",
     "text": [
      "Requirement already satisfied: gurobipy in c:\\users\\admin\\anaconda3\\lib\\site-packages (9.5.1)\n"
     ]
    },
    {
     "name": "stderr",
     "output_type": "stream",
     "text": [
      "WARNING: Ignoring invalid distribution -atplotlib (c:\\users\\admin\\anaconda3\\lib\\site-packages)\n",
      "WARNING: Ignoring invalid distribution -rotobuf (c:\\users\\admin\\anaconda3\\lib\\site-packages)\n",
      "WARNING: Ignoring invalid distribution -atplotlib (c:\\users\\admin\\anaconda3\\lib\\site-packages)\n",
      "WARNING: Ignoring invalid distribution -rotobuf (c:\\users\\admin\\anaconda3\\lib\\site-packages)\n",
      "DEPRECATION: pyodbc 4.0.0-unsupported has a non-standard version number. pip 24.0 will enforce this behaviour change. A possible replacement is to upgrade to a newer version of pyodbc or contact the author to suggest that they release a version with a conforming version number. Discussion can be found at https://github.com/pypa/pip/issues/12063\n"
     ]
    }
   ],
   "source": [
    "!pip install gurobipy"
   ]
  },
  {
   "cell_type": "code",
   "execution_count": 269,
   "id": "5aca81dd",
   "metadata": {},
   "outputs": [],
   "source": [
    "%reset -f\n",
    "import numpy as np\n",
    "import cvxpy as cp"
   ]
  },
  {
   "cell_type": "code",
   "execution_count": 268,
   "id": "f25b01b6",
   "metadata": {
    "scrolled": true
   },
   "outputs": [],
   "source": []
  },
  {
   "cell_type": "code",
   "execution_count": 270,
   "id": "f3d89224",
   "metadata": {
    "collapsed": true
   },
   "outputs": [
    {
     "name": "stderr",
     "output_type": "stream",
     "text": [
      "C:\\Users\\Admin\\anaconda3\\lib\\site-packages\\cvxpy\\expressions\\expression.py:621: UserWarning: \n",
      "This use of ``*`` has resulted in matrix multiplication.\n",
      "Using ``*`` for matrix multiplication has been deprecated since CVXPY 1.1.\n",
      "    Use ``*`` for matrix-scalar and vector-scalar multiplication.\n",
      "    Use ``@`` for matrix-matrix and matrix-vector multiplication.\n",
      "    Use ``multiply`` for elementwise multiplication.\n",
      "This code path has been hit 178 times so far.\n",
      "\n",
      "  warnings.warn(msg, UserWarning)\n",
      "C:\\Users\\Admin\\anaconda3\\lib\\site-packages\\cvxpy\\expressions\\expression.py:621: UserWarning: \n",
      "This use of ``*`` has resulted in matrix multiplication.\n",
      "Using ``*`` for matrix multiplication has been deprecated since CVXPY 1.1.\n",
      "    Use ``*`` for matrix-scalar and vector-scalar multiplication.\n",
      "    Use ``@`` for matrix-matrix and matrix-vector multiplication.\n",
      "    Use ``multiply`` for elementwise multiplication.\n",
      "This code path has been hit 179 times so far.\n",
      "\n",
      "  warnings.warn(msg, UserWarning)\n"
     ]
    }
   ],
   "source": [
    "# Parameters\n",
    "# Parameters\n",
    "M = 3; # Number of machines\n",
    "P = 4; # Number of personnel\n",
    "T = 5; # Number of tasks\n",
    "#c = [2.1, 3.0, 1.6]; # Cost of using each machine m per unit time\n",
    "c = cp.Parameter(M, value=[2.1, 3.0, 1.6], boolean=False); # Cost of using each machine m per unit time\n",
    "#e = [12.1, 13.0, 14.0, 11.6]; # Cost of employing each person p per unit time\n",
    "e = cp.Parameter(P, value=[12.1, 13.0, 14.0, 11.6], boolean=False); # Cost of employing each person p per unit time\n",
    "o = 123.2; # Fixed overhead cost\n",
    "u = [222.1, 223.0, 1111.6]; # Usage limit (max time over the period) for each machine m\n",
    "v = [140.0, 141.1, 139.6, 142.9]; # Work hours limit (max time over the period) for each person p\n",
    "l = [4.02, 5.1, 3.6, 4.29, 6.08]; # Duration of each task t in hours. Assumed to be independent on machine m!\n",
    "d = [11.0, 11.0, 11.0, 11.0, 10.0]; # Deadline of each task t in hours\n",
    "r = [22.02, 24.1, 22.6, 23.29, 22.08]; # Tardiness starts at these times for each task t\n",
    "wc = 1.0; # Weight of cost objective\n",
    "wt = 1.0; # Weight of tardiness objective\n",
    "\n",
    "# Decision variables\n",
    "x = cp.Variable(M, value=np.zeros(M), boolean=False) # Time each machine m is used\n",
    "y = cp.Variable(P, value=np.zeros(P), boolean=False) # Time each person p is employed\n",
    "a = cp.Variable((T, M), boolean=True); # Assignment of each task t to each machine m\n",
    "b = cp.Variable((T, P), boolean=True); # Assignment of each task t to each person m\n",
    "f = cp.Variable(T, value=np.zeros(T), boolean=False) # Finish time for each task t\n",
    "\n",
    "###obj = cp.Minimize(sum(np.dot(variable, one_vec)))\n",
    "# Objective 1: Minimize the total cost of quality control resource allocation.\n",
    "# Objective 2: Minimize the total tardiness.\n",
    "obj = cp.Minimize( wc * (np.dot(c, x) + np.dot(e, y) + o) + wt * cp.sum(cp.maximum(0, f - r)))\n",
    "# No throughput. Assuming all tasks must be completed!\n",
    "\n",
    "constraints = []\n",
    "\n",
    "# Each machine has a usage limit:\n",
    "\n",
    "for m in range(M):\n",
    "    constraints.append(x[m] <= u[m])\n",
    "\n",
    "# Each person has a work hours limit:\n",
    "for p in range(P):\n",
    "    constraints.append(y[p] <= v[p])\n",
    "\n",
    "# Each task is assigned to only one machine:\n",
    "for t in range(T):\n",
    "    constraints.append(cp.sum(a[t]) == 1)\n",
    "\n",
    "# Each task is assigned to only one person:\n",
    "for t in range(T):\n",
    "    constraints.append(cp.sum(b[t]) == 1)\n",
    "\n",
    "# Resource Workload. Match task duration with machine and personnel usage:\n",
    "for m in range(M):\n",
    "    constraints.append(x[m] == cp.sum(a[:,m]@l))\n",
    "for p in range(P):\n",
    "    constraints.append(y[p] == cp.sum(b[:,p]@l))\n",
    "\n",
    "# Finish time for each task t:\n",
    "constraints.append(f[0] == l[0]);\n",
    "#constraints.append(f[1] == cp.sum( a[1,:] * ( cp.maximum(0, a[1,:] + a[0,:] - 1) * l[0] + cp.maximum(0, a[1,:] + a[1,:] - 1) * l[1] ) ))\n",
    "#constraints.append(f[1] == cp.maximum(0, a[1,:] + a[0,:] - 1) * l[0] + cp.maximum(0, a[1,:] + a[1,:] - 1) * l[1])\n",
    "#Doesn't follow DCP rules!\n",
    "for t in range(2,T):\n",
    "    #Non-convex:\n",
    "    constraints.append(f[t] == cp.sum( a[t,:] * l[t] ))\n",
    "    #cp.maximum(0, a[t,:] + a[t1,:] - 1) * l[t1]\n",
    "    \n",
    "    #constraints.append(f[1] == cp.sum(l[0]*(a[0,:]==a[1,:])) + l[1]);\n",
    "    # Assuming tasks are executed in ascending order of its number t on each machine!\n",
    "    \n",
    "    # Reformulate to make it linear in a:\n",
    "    # Truth Table:\n",
    "    # a[t,m]   a[t1,m]   x\n",
    "    # 0        0         0\n",
    "    # 0        1         0\n",
    "    # 1        0         0\n",
    "    # 1        1         1\n",
    "    #constraints.append(f[t] == cp.sum( cp.sum( cp.maximum(0, a[t,:] + a[t1,:] - 1) * l[t1] for t1 in range(t) ), axis=1 ));\n",
    "\n",
    "# Due Date for each task t:\n",
    "for t in range(T):\n",
    "    constraints.append(f[t] <= d[t])\n",
    "    \n",
    "problem = cp.Problem(obj, constraints=constraints)"
   ]
  },
  {
   "cell_type": "code",
   "execution_count": 271,
   "id": "a5ce3730",
   "metadata": {
    "collapsed": true
   },
   "outputs": [
    {
     "ename": "DCPError",
     "evalue": "Problem does not follow DCP rules. Specifically:\nThe following constraints are not DCP:\nvar9444[1] == maximum(0.0, var9442[1, 0:3] + var9442[0, 0:3] + Promote(-1.0, (3,))) @ Promote(4.02, (3,)) + maximum(0.0, var9442[1, 0:3] + var9442[1, 0:3] + Promote(-1.0, (3,))) @ Promote(5.1, (3,)) , because the following subexpressions are not:\n|--  var9444[1] == maximum(0.0, var9442[1, 0:3] + var9442[0, 0:3] + Promote(-1.0, (3,))) @ Promote(4.02, (3,)) + maximum(0.0, var9442[1, 0:3] + var9442[1, 0:3] + Promote(-1.0, (3,))) @ Promote(5.1, (3,))",
     "output_type": "error",
     "traceback": [
      "\u001b[1;31m---------------------------------------------------------------------------\u001b[0m",
      "\u001b[1;31mDCPError\u001b[0m                                  Traceback (most recent call last)",
      "\u001b[1;32m~\\AppData\\Local\\Temp/ipykernel_5536/778365811.py\u001b[0m in \u001b[0;36m<module>\u001b[1;34m\u001b[0m\n\u001b[1;32m----> 1\u001b[1;33m \u001b[0mproblem\u001b[0m\u001b[1;33m.\u001b[0m\u001b[0msolve\u001b[0m\u001b[1;33m(\u001b[0m\u001b[1;33m)\u001b[0m\u001b[1;33m\u001b[0m\u001b[1;33m\u001b[0m\u001b[0m\n\u001b[0m",
      "\u001b[1;32m~\\anaconda3\\lib\\site-packages\\cvxpy\\problems\\problem.py\u001b[0m in \u001b[0;36msolve\u001b[1;34m(self, *args, **kwargs)\u001b[0m\n\u001b[0;32m    501\u001b[0m         \u001b[1;32melse\u001b[0m\u001b[1;33m:\u001b[0m\u001b[1;33m\u001b[0m\u001b[1;33m\u001b[0m\u001b[0m\n\u001b[0;32m    502\u001b[0m             \u001b[0msolve_func\u001b[0m \u001b[1;33m=\u001b[0m \u001b[0mProblem\u001b[0m\u001b[1;33m.\u001b[0m\u001b[0m_solve\u001b[0m\u001b[1;33m\u001b[0m\u001b[1;33m\u001b[0m\u001b[0m\n\u001b[1;32m--> 503\u001b[1;33m         \u001b[1;32mreturn\u001b[0m \u001b[0msolve_func\u001b[0m\u001b[1;33m(\u001b[0m\u001b[0mself\u001b[0m\u001b[1;33m,\u001b[0m \u001b[1;33m*\u001b[0m\u001b[0margs\u001b[0m\u001b[1;33m,\u001b[0m \u001b[1;33m**\u001b[0m\u001b[0mkwargs\u001b[0m\u001b[1;33m)\u001b[0m\u001b[1;33m\u001b[0m\u001b[1;33m\u001b[0m\u001b[0m\n\u001b[0m\u001b[0;32m    504\u001b[0m \u001b[1;33m\u001b[0m\u001b[0m\n\u001b[0;32m    505\u001b[0m     \u001b[1;33m@\u001b[0m\u001b[0mclassmethod\u001b[0m\u001b[1;33m\u001b[0m\u001b[1;33m\u001b[0m\u001b[0m\n",
      "\u001b[1;32m~\\anaconda3\\lib\\site-packages\\cvxpy\\problems\\problem.py\u001b[0m in \u001b[0;36m_solve\u001b[1;34m(self, solver, warm_start, verbose, gp, qcp, requires_grad, enforce_dpp, ignore_dpp, canon_backend, **kwargs)\u001b[0m\n\u001b[0;32m   1070\u001b[0m                 \u001b[1;32mreturn\u001b[0m \u001b[0mself\u001b[0m\u001b[1;33m.\u001b[0m\u001b[0mvalue\u001b[0m\u001b[1;33m\u001b[0m\u001b[1;33m\u001b[0m\u001b[0m\n\u001b[0;32m   1071\u001b[0m \u001b[1;33m\u001b[0m\u001b[0m\n\u001b[1;32m-> 1072\u001b[1;33m         data, solving_chain, inverse_data = self.get_problem_data(\n\u001b[0m\u001b[0;32m   1073\u001b[0m             \u001b[0msolver\u001b[0m\u001b[1;33m,\u001b[0m \u001b[0mgp\u001b[0m\u001b[1;33m,\u001b[0m \u001b[0menforce_dpp\u001b[0m\u001b[1;33m,\u001b[0m \u001b[0mignore_dpp\u001b[0m\u001b[1;33m,\u001b[0m \u001b[0mverbose\u001b[0m\u001b[1;33m,\u001b[0m \u001b[0mcanon_backend\u001b[0m\u001b[1;33m,\u001b[0m \u001b[0mkwargs\u001b[0m\u001b[1;33m\u001b[0m\u001b[1;33m\u001b[0m\u001b[0m\n\u001b[0;32m   1074\u001b[0m         )\n",
      "\u001b[1;32m~\\anaconda3\\lib\\site-packages\\cvxpy\\problems\\problem.py\u001b[0m in \u001b[0;36mget_problem_data\u001b[1;34m(self, solver, gp, enforce_dpp, ignore_dpp, verbose, canon_backend, solver_opts)\u001b[0m\n\u001b[0;32m    644\u001b[0m         \u001b[1;32mif\u001b[0m \u001b[0mkey\u001b[0m \u001b[1;33m!=\u001b[0m \u001b[0mself\u001b[0m\u001b[1;33m.\u001b[0m\u001b[0m_cache\u001b[0m\u001b[1;33m.\u001b[0m\u001b[0mkey\u001b[0m\u001b[1;33m:\u001b[0m\u001b[1;33m\u001b[0m\u001b[1;33m\u001b[0m\u001b[0m\n\u001b[0;32m    645\u001b[0m             \u001b[0mself\u001b[0m\u001b[1;33m.\u001b[0m\u001b[0m_cache\u001b[0m\u001b[1;33m.\u001b[0m\u001b[0minvalidate\u001b[0m\u001b[1;33m(\u001b[0m\u001b[1;33m)\u001b[0m\u001b[1;33m\u001b[0m\u001b[1;33m\u001b[0m\u001b[0m\n\u001b[1;32m--> 646\u001b[1;33m             solving_chain = self._construct_chain(\n\u001b[0m\u001b[0;32m    647\u001b[0m                 \u001b[0msolver\u001b[0m\u001b[1;33m=\u001b[0m\u001b[0msolver\u001b[0m\u001b[1;33m,\u001b[0m \u001b[0mgp\u001b[0m\u001b[1;33m=\u001b[0m\u001b[0mgp\u001b[0m\u001b[1;33m,\u001b[0m\u001b[1;33m\u001b[0m\u001b[1;33m\u001b[0m\u001b[0m\n\u001b[0;32m    648\u001b[0m                 \u001b[0menforce_dpp\u001b[0m\u001b[1;33m=\u001b[0m\u001b[0menforce_dpp\u001b[0m\u001b[1;33m,\u001b[0m\u001b[1;33m\u001b[0m\u001b[1;33m\u001b[0m\u001b[0m\n",
      "\u001b[1;32m~\\anaconda3\\lib\\site-packages\\cvxpy\\problems\\problem.py\u001b[0m in \u001b[0;36m_construct_chain\u001b[1;34m(self, solver, gp, enforce_dpp, ignore_dpp, canon_backend, solver_opts)\u001b[0m\n\u001b[0;32m    896\u001b[0m         \u001b[0mcandidate_solvers\u001b[0m \u001b[1;33m=\u001b[0m \u001b[0mself\u001b[0m\u001b[1;33m.\u001b[0m\u001b[0m_find_candidate_solvers\u001b[0m\u001b[1;33m(\u001b[0m\u001b[0msolver\u001b[0m\u001b[1;33m=\u001b[0m\u001b[0msolver\u001b[0m\u001b[1;33m,\u001b[0m \u001b[0mgp\u001b[0m\u001b[1;33m=\u001b[0m\u001b[0mgp\u001b[0m\u001b[1;33m)\u001b[0m\u001b[1;33m\u001b[0m\u001b[1;33m\u001b[0m\u001b[0m\n\u001b[0;32m    897\u001b[0m         \u001b[0mself\u001b[0m\u001b[1;33m.\u001b[0m\u001b[0m_sort_candidate_solvers\u001b[0m\u001b[1;33m(\u001b[0m\u001b[0mcandidate_solvers\u001b[0m\u001b[1;33m)\u001b[0m\u001b[1;33m\u001b[0m\u001b[1;33m\u001b[0m\u001b[0m\n\u001b[1;32m--> 898\u001b[1;33m         return construct_solving_chain(self, candidate_solvers, gp=gp,\n\u001b[0m\u001b[0;32m    899\u001b[0m                                        \u001b[0menforce_dpp\u001b[0m\u001b[1;33m=\u001b[0m\u001b[0menforce_dpp\u001b[0m\u001b[1;33m,\u001b[0m\u001b[1;33m\u001b[0m\u001b[1;33m\u001b[0m\u001b[0m\n\u001b[0;32m    900\u001b[0m                                        \u001b[0mignore_dpp\u001b[0m\u001b[1;33m=\u001b[0m\u001b[0mignore_dpp\u001b[0m\u001b[1;33m,\u001b[0m\u001b[1;33m\u001b[0m\u001b[1;33m\u001b[0m\u001b[0m\n",
      "\u001b[1;32m~\\anaconda3\\lib\\site-packages\\cvxpy\\reductions\\solvers\\solving_chain.py\u001b[0m in \u001b[0;36mconstruct_solving_chain\u001b[1;34m(problem, candidates, gp, enforce_dpp, ignore_dpp, canon_backend, solver_opts, specified_solver)\u001b[0m\n\u001b[0;32m    215\u001b[0m     \u001b[1;32mif\u001b[0m \u001b[0mlen\u001b[0m\u001b[1;33m(\u001b[0m\u001b[0mproblem\u001b[0m\u001b[1;33m.\u001b[0m\u001b[0mvariables\u001b[0m\u001b[1;33m(\u001b[0m\u001b[1;33m)\u001b[0m\u001b[1;33m)\u001b[0m \u001b[1;33m==\u001b[0m \u001b[1;36m0\u001b[0m\u001b[1;33m:\u001b[0m\u001b[1;33m\u001b[0m\u001b[1;33m\u001b[0m\u001b[0m\n\u001b[0;32m    216\u001b[0m         \u001b[1;32mreturn\u001b[0m \u001b[0mSolvingChain\u001b[0m\u001b[1;33m(\u001b[0m\u001b[0mreductions\u001b[0m\u001b[1;33m=\u001b[0m\u001b[1;33m[\u001b[0m\u001b[0mConstantSolver\u001b[0m\u001b[1;33m(\u001b[0m\u001b[1;33m)\u001b[0m\u001b[1;33m]\u001b[0m\u001b[1;33m)\u001b[0m\u001b[1;33m\u001b[0m\u001b[1;33m\u001b[0m\u001b[0m\n\u001b[1;32m--> 217\u001b[1;33m     \u001b[0mreductions\u001b[0m \u001b[1;33m=\u001b[0m \u001b[0m_reductions_for_problem_class\u001b[0m\u001b[1;33m(\u001b[0m\u001b[0mproblem\u001b[0m\u001b[1;33m,\u001b[0m \u001b[0mcandidates\u001b[0m\u001b[1;33m,\u001b[0m \u001b[0mgp\u001b[0m\u001b[1;33m,\u001b[0m \u001b[0msolver_opts\u001b[0m\u001b[1;33m)\u001b[0m\u001b[1;33m\u001b[0m\u001b[1;33m\u001b[0m\u001b[0m\n\u001b[0m\u001b[0;32m    218\u001b[0m \u001b[1;33m\u001b[0m\u001b[0m\n\u001b[0;32m    219\u001b[0m     \u001b[1;31m# Process DPP status of the problem.\u001b[0m\u001b[1;33m\u001b[0m\u001b[1;33m\u001b[0m\u001b[0m\n",
      "\u001b[1;32m~\\anaconda3\\lib\\site-packages\\cvxpy\\reductions\\solvers\\solving_chain.py\u001b[0m in \u001b[0;36m_reductions_for_problem_class\u001b[1;34m(problem, candidates, gp, solver_opts)\u001b[0m\n\u001b[0;32m    130\u001b[0m             append += (\"\\nHowever, the problem does follow DQCP rules. \"\n\u001b[0;32m    131\u001b[0m                        \"Consider calling solve() with `qcp=True`.\")\n\u001b[1;32m--> 132\u001b[1;33m         raise DCPError(\n\u001b[0m\u001b[0;32m    133\u001b[0m             \"Problem does not follow DCP rules. Specifically:\\n\" + append)\n\u001b[0;32m    134\u001b[0m     \u001b[1;32melif\u001b[0m \u001b[0mgp\u001b[0m \u001b[1;32mand\u001b[0m \u001b[1;32mnot\u001b[0m \u001b[0mproblem\u001b[0m\u001b[1;33m.\u001b[0m\u001b[0mis_dgp\u001b[0m\u001b[1;33m(\u001b[0m\u001b[1;33m)\u001b[0m\u001b[1;33m:\u001b[0m\u001b[1;33m\u001b[0m\u001b[1;33m\u001b[0m\u001b[0m\n",
      "\u001b[1;31mDCPError\u001b[0m: Problem does not follow DCP rules. Specifically:\nThe following constraints are not DCP:\nvar9444[1] == maximum(0.0, var9442[1, 0:3] + var9442[0, 0:3] + Promote(-1.0, (3,))) @ Promote(4.02, (3,)) + maximum(0.0, var9442[1, 0:3] + var9442[1, 0:3] + Promote(-1.0, (3,))) @ Promote(5.1, (3,)) , because the following subexpressions are not:\n|--  var9444[1] == maximum(0.0, var9442[1, 0:3] + var9442[0, 0:3] + Promote(-1.0, (3,))) @ Promote(4.02, (3,)) + maximum(0.0, var9442[1, 0:3] + var9442[1, 0:3] + Promote(-1.0, (3,))) @ Promote(5.1, (3,))"
     ]
    }
   ],
   "source": [
    "problem.solve()"
   ]
  }
 ],
 "metadata": {
  "kernelspec": {
   "display_name": "Python 3 (ipykernel)",
   "language": "python",
   "name": "python3"
  },
  "language_info": {
   "codemirror_mode": {
    "name": "ipython",
    "version": 3
   },
   "file_extension": ".py",
   "mimetype": "text/x-python",
   "name": "python",
   "nbconvert_exporter": "python",
   "pygments_lexer": "ipython3",
   "version": "3.9.7"
  }
 },
 "nbformat": 4,
 "nbformat_minor": 5
}
